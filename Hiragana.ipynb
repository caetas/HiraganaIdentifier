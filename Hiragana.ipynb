{
 "cells": [
  {
   "cell_type": "code",
   "execution_count": 1,
   "source": [
    "import numpy as np\n",
    "from tensorflow import keras\n",
    "from tensorflow.keras import layers\n",
    "from matplotlib import pyplot as plt\n",
    "import pandas as pd\n",
    "from keras.preprocessing.image import ImageDataGenerator\n",
    "import random\n",
    "import math"
   ],
   "outputs": [],
   "metadata": {
    "id": "Iq05zcAPjTNq"
   }
  },
  {
   "cell_type": "code",
   "execution_count": 2,
   "source": [
    "data = np.load('k49-test-imgs.npz')\n",
    "x_test = data['arr_0']\n",
    "data = np.load('k49-train-imgs.npz')\n",
    "x_train = data['arr_0']\n",
    "data = np.load('k49-train-labels.npz')\n",
    "y_train = data['arr_0']\n",
    "data = np.load('k49-test-labels.npz')\n",
    "y_test = data['arr_0']"
   ],
   "outputs": [],
   "metadata": {
    "id": "l5pXtdrKjsEp"
   }
  },
  {
   "cell_type": "code",
   "execution_count": 3,
   "source": [
    "data = pd.read_csv(\"k49_classmap.csv\")\n",
    "print(data.char[0])"
   ],
   "outputs": [
    {
     "output_type": "stream",
     "name": "stdout",
     "text": [
      "あ\n"
     ]
    }
   ],
   "metadata": {}
  },
  {
   "cell_type": "code",
   "execution_count": 36,
   "source": [
    "#print(y.files)\n",
    "print(x_train[1].shape)"
   ],
   "outputs": [
    {
     "output_type": "stream",
     "name": "stdout",
     "text": [
      "(28, 28)\n"
     ]
    }
   ],
   "metadata": {
    "colab": {
     "base_uri": "https://localhost:8080/"
    },
    "id": "Mz1WrdHGj2Rg",
    "outputId": "36714a45-584e-4c36-dfb8-4228f5c94bd3"
   }
  },
  {
   "cell_type": "code",
   "execution_count": 26,
   "source": [
    "plt.imshow(x_train[1], cmap='gray')\n",
    "plt.xticks([]), plt.yticks([])\n",
    "plt.show()\n",
    "print(x_train[1].argmax())"
   ],
   "outputs": [
    {
     "output_type": "display_data",
     "data": {
      "image/png": "[encoded data removed]",
      "text/plain": [
       "<Figure size 432x288 with 1 Axes>"
      ]
     },
     "metadata": {}
    },
    {
     "output_type": "stream",
     "name": "stdout",
     "text": [
      "66\n"
     ]
    }
   ],
   "metadata": {
    "colab": {
     "base_uri": "https://localhost:8080/",
     "height": 269
    },
    "id": "FMx5dzxAlEyO",
    "outputId": "39d1d3fb-40d6-4f57-a811-a01b7b56b6b9"
   }
  },
  {
   "cell_type": "code",
   "execution_count": 16,
   "source": [
    "print(x_train.shape[0])\n",
    "print(x_test.shape[0])\n",
    "\n",
    "#x_train = x_train.reshape(x_train.shape[0], 48, 48,1)\n",
    "#x_test = x_test.reshape(x_test.shape[0], 48, 48,1)"
   ],
   "outputs": [
    {
     "output_type": "stream",
     "name": "stdout",
     "text": [
      "232365\n",
      "38547\n"
     ]
    },
    {
     "output_type": "error",
     "ename": "ValueError",
     "evalue": "cannot reshape array of size 182174160 into shape (232365,48,48)",
     "traceback": [
      "\u001b[0;31m---------------------------------------------------------------------------\u001b[0m",
      "\u001b[0;31mValueError\u001b[0m                                Traceback (most recent call last)",
      "\u001b[0;32m/tmp/ipykernel_4158/3402047426.py\u001b[0m in \u001b[0;36m<module>\u001b[0;34m\u001b[0m\n\u001b[1;32m      2\u001b[0m \u001b[0mprint\u001b[0m\u001b[0;34m(\u001b[0m\u001b[0mx_test\u001b[0m\u001b[0;34m.\u001b[0m\u001b[0mshape\u001b[0m\u001b[0;34m[\u001b[0m\u001b[0;36m0\u001b[0m\u001b[0;34m]\u001b[0m\u001b[0;34m)\u001b[0m\u001b[0;34m\u001b[0m\u001b[0;34m\u001b[0m\u001b[0m\n\u001b[1;32m      3\u001b[0m \u001b[0;34m\u001b[0m\u001b[0m\n\u001b[0;32m----> 4\u001b[0;31m \u001b[0mx_train\u001b[0m \u001b[0;34m=\u001b[0m \u001b[0mx_train\u001b[0m\u001b[0;34m.\u001b[0m\u001b[0mreshape\u001b[0m\u001b[0;34m(\u001b[0m\u001b[0mx_train\u001b[0m\u001b[0;34m.\u001b[0m\u001b[0mshape\u001b[0m\u001b[0;34m[\u001b[0m\u001b[0;36m0\u001b[0m\u001b[0;34m]\u001b[0m\u001b[0;34m,\u001b[0m \u001b[0;36m48\u001b[0m\u001b[0;34m,\u001b[0m \u001b[0;36m48\u001b[0m\u001b[0;34m)\u001b[0m\u001b[0;34m\u001b[0m\u001b[0;34m\u001b[0m\u001b[0m\n\u001b[0m\u001b[1;32m      5\u001b[0m \u001b[0mx_test\u001b[0m \u001b[0;34m=\u001b[0m \u001b[0mx_test\u001b[0m\u001b[0;34m.\u001b[0m\u001b[0mreshape\u001b[0m\u001b[0;34m(\u001b[0m\u001b[0mx_test\u001b[0m\u001b[0;34m.\u001b[0m\u001b[0mshape\u001b[0m\u001b[0;34m[\u001b[0m\u001b[0;36m0\u001b[0m\u001b[0;34m]\u001b[0m\u001b[0;34m,\u001b[0m \u001b[0;36m48\u001b[0m\u001b[0;34m,\u001b[0m \u001b[0;36m48\u001b[0m\u001b[0;34m)\u001b[0m\u001b[0;34m\u001b[0m\u001b[0;34m\u001b[0m\u001b[0m\n",
      "\u001b[0;31mValueError\u001b[0m: cannot reshape array of size 182174160 into shape (232365,48,48)"
     ]
    }
   ],
   "metadata": {}
  },
  {
   "cell_type": "code",
   "execution_count": 4,
   "source": [
    "num_classes = 49\n",
    "input_shape = (28, 28, 1)\n",
    "\n",
    "\n",
    "# Scale images to the [0, 1] range\n",
    "x_train = x_train.astype(\"float32\") / 255\n",
    "x_test = x_test.astype(\"float32\") / 255\n",
    "# Make sure images have shape (28, 28, 1)\n",
    "x_train = np.expand_dims(x_train, -1)\n",
    "x_test = np.expand_dims(x_test, -1)\n",
    "\n",
    "print(\"x_train shape:\", x_train.shape)\n",
    "print(x_train.shape[0], \"train samples\")\n",
    "print(x_test.shape[0], \"test samples\")\n",
    "\n",
    "\n",
    "# convert class vectors to binary class matrices\n",
    "y_train = keras.utils.to_categorical(y_train, num_classes)\n",
    "y_test = keras.utils.to_categorical(y_test, num_classes)"
   ],
   "outputs": [
    {
     "output_type": "stream",
     "name": "stdout",
     "text": [
      "x_train shape: (232365, 28, 28, 1)\n",
      "232365 train samples\n",
      "38547 test samples\n"
     ]
    }
   ],
   "metadata": {
    "colab": {
     "base_uri": "https://localhost:8080/"
    },
    "id": "hrE7rSgCl8ZK",
    "outputId": "2e0e76b1-ca16-4eb0-a026-c1bfca47b798"
   }
  },
  {
   "cell_type": "code",
   "execution_count": 5,
   "source": [
    "#datagen = ImageDataGenerator(rotation_range=15,zoom_range=0.2)\n",
    "#datagen.fit(x_train)\n",
    "\n",
    "model = keras.Sequential(\n",
    "    [\n",
    "        keras.Input(shape=input_shape),\n",
    "        layers.Conv2D(64, kernel_size=(3, 3), activation=\"relu\"),\n",
    "        layers.MaxPooling2D(pool_size=(1, 1)),\n",
    "        layers.Conv2D(64, kernel_size=(3, 3), activation=\"relu\"),\n",
    "        layers.MaxPooling2D(pool_size=(2, 2)),\n",
    "        layers.Conv2D(64, kernel_size=(3, 3), activation=\"relu\"),\n",
    "        layers.MaxPooling2D(pool_size=(2, 2)),\n",
    "        layers.Flatten(),\n",
    "        layers.Dropout(0.5),\n",
    "        layers.Dense(1024, activation=\"relu\"),\n",
    "        layers.Dense(num_classes, activation=\"softmax\"),\n",
    "    ]\n",
    ")"
   ],
   "outputs": [
    {
     "output_type": "stream",
     "name": "stderr",
     "text": [
      "2021-09-24 19:26:28.042049: I tensorflow/stream_executor/cuda/cuda_gpu_executor.cc:937] successful NUMA node read from SysFS had negative value (-1), but there must be at least one NUMA node, so returning NUMA node zero\n",
      "2021-09-24 19:26:28.051602: I tensorflow/stream_executor/cuda/cuda_gpu_executor.cc:937] successful NUMA node read from SysFS had negative value (-1), but there must be at least one NUMA node, so returning NUMA node zero\n",
      "2021-09-24 19:26:28.052238: I tensorflow/stream_executor/cuda/cuda_gpu_executor.cc:937] successful NUMA node read from SysFS had negative value (-1), but there must be at least one NUMA node, so returning NUMA node zero\n",
      "2021-09-24 19:26:28.053610: I tensorflow/core/platform/cpu_feature_guard.cc:142] This TensorFlow binary is optimized with oneAPI Deep Neural Network Library (oneDNN) to use the following CPU instructions in performance-critical operations:  AVX2 FMA\n",
      "To enable them in other operations, rebuild TensorFlow with the appropriate compiler flags.\n",
      "2021-09-24 19:26:28.054394: I tensorflow/stream_executor/cuda/cuda_gpu_executor.cc:937] successful NUMA node read from SysFS had negative value (-1), but there must be at least one NUMA node, so returning NUMA node zero\n",
      "2021-09-24 19:26:28.054845: I tensorflow/stream_executor/cuda/cuda_gpu_executor.cc:937] successful NUMA node read from SysFS had negative value (-1), but there must be at least one NUMA node, so returning NUMA node zero\n",
      "2021-09-24 19:26:28.055234: I tensorflow/stream_executor/cuda/cuda_gpu_executor.cc:937] successful NUMA node read from SysFS had negative value (-1), but there must be at least one NUMA node, so returning NUMA node zero\n",
      "2021-09-24 19:26:28.661988: I tensorflow/stream_executor/cuda/cuda_gpu_executor.cc:937] successful NUMA node read from SysFS had negative value (-1), but there must be at least one NUMA node, so returning NUMA node zero\n",
      "2021-09-24 19:26:28.662389: I tensorflow/stream_executor/cuda/cuda_gpu_executor.cc:937] successful NUMA node read from SysFS had negative value (-1), but there must be at least one NUMA node, so returning NUMA node zero\n",
      "2021-09-24 19:26:28.662737: I tensorflow/stream_executor/cuda/cuda_gpu_executor.cc:937] successful NUMA node read from SysFS had negative value (-1), but there must be at least one NUMA node, so returning NUMA node zero\n",
      "2021-09-24 19:26:28.663059: I tensorflow/core/common_runtime/gpu/gpu_device.cc:1510] Created device /job:localhost/replica:0/task:0/device:GPU:0 with 2205 MB memory:  -> device: 0, name: NVIDIA GeForce GTX 1650, pci bus id: 0000:01:00.0, compute capability: 7.5\n"
     ]
    }
   ],
   "metadata": {
    "colab": {
     "base_uri": "https://localhost:8080/"
    },
    "id": "mnllWEzjm8ZT",
    "outputId": "2e3409c1-fed0-4a67-c5b6-383106e26b6a"
   }
  },
  {
   "cell_type": "code",
   "execution_count": 7,
   "source": [
    "model.compile(optimizer='adam', loss=\"sparse_categorical_crossentropy\", metrics=['accuracy'])\n",
    "\n",
    "model.fit_generator(datagen.flow(x_train,y_train,batch_size=128,shuffle=True),epochs=30 ,validation_data=(x_test,y_test))"
   ],
   "outputs": [
    {
     "output_type": "stream",
     "name": "stderr",
     "text": [
      "/home/franciscocaetano/.local/lib/python3.9/site-packages/keras/engine/training.py:1972: UserWarning: `Model.fit_generator` is deprecated and will be removed in a future version. Please use `Model.fit`, which supports generators.\n",
      "  warnings.warn('`Model.fit_generator` is deprecated and '\n",
      "2021-09-24 19:10:44.917279: I tensorflow/compiler/mlir/mlir_graph_optimization_pass.cc:185] None of the MLIR Optimization Passes are enabled (registered 2)\n"
     ]
    },
    {
     "output_type": "stream",
     "name": "stdout",
     "text": [
      "Epoch 1/30\n"
     ]
    },
    {
     "output_type": "stream",
     "name": "stderr",
     "text": [
      "2021-09-24 19:10:46.168429: I tensorflow/stream_executor/cuda/cuda_dnn.cc:369] Loaded cuDNN version 8101\n"
     ]
    },
    {
     "output_type": "stream",
     "name": "stdout",
     "text": [
      "1816/1816 [==============================] - 61s 32ms/step - loss: 0.6585 - accuracy: 0.8183 - val_loss: 0.3940 - val_accuracy: 0.8975\n",
      "Epoch 2/30\n",
      "1816/1816 [==============================] - 58s 32ms/step - loss: 0.3113 - accuracy: 0.9100 - val_loss: 0.2899 - val_accuracy: 0.9237\n",
      "Epoch 3/30\n",
      "1816/1816 [==============================] - 57s 32ms/step - loss: 0.2523 - accuracy: 0.9271 - val_loss: 0.2377 - val_accuracy: 0.9380\n",
      "Epoch 4/30\n",
      "1816/1816 [==============================] - 58s 32ms/step - loss: 0.2201 - accuracy: 0.9353 - val_loss: 0.2206 - val_accuracy: 0.9430\n",
      "Epoch 5/30\n",
      "1816/1816 [==============================] - 58s 32ms/step - loss: 0.1984 - accuracy: 0.9413 - val_loss: 0.2203 - val_accuracy: 0.9447\n",
      "Epoch 6/30\n",
      "1816/1816 [==============================] - 58s 32ms/step - loss: 0.1845 - accuracy: 0.9451 - val_loss: 0.2029 - val_accuracy: 0.9490\n",
      "Epoch 7/30\n",
      "1816/1816 [==============================] - 56s 31ms/step - loss: 0.1718 - accuracy: 0.9489 - val_loss: 0.1933 - val_accuracy: 0.9508\n",
      "Epoch 8/30\n",
      "1816/1816 [==============================] - 58s 32ms/step - loss: 0.1629 - accuracy: 0.9512 - val_loss: 0.1888 - val_accuracy: 0.9522\n",
      "Epoch 9/30\n",
      "1816/1816 [==============================] - 57s 32ms/step - loss: 0.1558 - accuracy: 0.9531 - val_loss: 0.1850 - val_accuracy: 0.9530\n",
      "Epoch 10/30\n",
      "1816/1816 [==============================] - 57s 31ms/step - loss: 0.1480 - accuracy: 0.9554 - val_loss: 0.1843 - val_accuracy: 0.9550\n",
      "Epoch 11/30\n",
      "1816/1816 [==============================] - 58s 32ms/step - loss: 0.1428 - accuracy: 0.9564 - val_loss: 0.1747 - val_accuracy: 0.9573\n",
      "Epoch 12/30\n",
      "1816/1816 [==============================] - 57s 31ms/step - loss: 0.1368 - accuracy: 0.9585 - val_loss: 0.1808 - val_accuracy: 0.9563\n",
      "Epoch 13/30\n",
      "1816/1816 [==============================] - 57s 31ms/step - loss: 0.1341 - accuracy: 0.9590 - val_loss: 0.1834 - val_accuracy: 0.9556\n",
      "Epoch 14/30\n",
      "1816/1816 [==============================] - 57s 32ms/step - loss: 0.1284 - accuracy: 0.9605 - val_loss: 0.1730 - val_accuracy: 0.9577\n",
      "Epoch 15/30\n",
      "1816/1816 [==============================] - 57s 31ms/step - loss: 0.1262 - accuracy: 0.9614 - val_loss: 0.1866 - val_accuracy: 0.9562\n",
      "Epoch 16/30\n",
      " 472/1816 [======>.......................] - ETA: 40s - loss: 0.1176 - accuracy: 0.9637"
     ]
    },
    {
     "output_type": "error",
     "ename": "KeyboardInterrupt",
     "evalue": "",
     "traceback": [
      "\u001b[0;31m---------------------------------------------------------------------------\u001b[0m",
      "\u001b[0;31mKeyboardInterrupt\u001b[0m                         Traceback (most recent call last)",
      "\u001b[0;32m/tmp/ipykernel_5269/3709114201.py\u001b[0m in \u001b[0;36m<module>\u001b[0;34m\u001b[0m\n\u001b[1;32m      1\u001b[0m \u001b[0mmodel\u001b[0m\u001b[0;34m.\u001b[0m\u001b[0mcompile\u001b[0m\u001b[0;34m(\u001b[0m\u001b[0moptimizer\u001b[0m\u001b[0;34m=\u001b[0m\u001b[0;34m'adam'\u001b[0m\u001b[0;34m,\u001b[0m \u001b[0mloss\u001b[0m\u001b[0;34m=\u001b[0m\u001b[0;34m\"sparse_categorical_crossentropy\"\u001b[0m\u001b[0;34m,\u001b[0m \u001b[0mmetrics\u001b[0m\u001b[0;34m=\u001b[0m\u001b[0;34m[\u001b[0m\u001b[0;34m'accuracy'\u001b[0m\u001b[0;34m]\u001b[0m\u001b[0;34m)\u001b[0m\u001b[0;34m\u001b[0m\u001b[0;34m\u001b[0m\u001b[0m\n\u001b[1;32m      2\u001b[0m \u001b[0;34m\u001b[0m\u001b[0m\n\u001b[0;32m----> 3\u001b[0;31m \u001b[0mmodel\u001b[0m\u001b[0;34m.\u001b[0m\u001b[0mfit_generator\u001b[0m\u001b[0;34m(\u001b[0m\u001b[0mdatagen\u001b[0m\u001b[0;34m.\u001b[0m\u001b[0mflow\u001b[0m\u001b[0;34m(\u001b[0m\u001b[0mx_train\u001b[0m\u001b[0;34m,\u001b[0m\u001b[0my_train\u001b[0m\u001b[0;34m,\u001b[0m\u001b[0mbatch_size\u001b[0m\u001b[0;34m=\u001b[0m\u001b[0;36m128\u001b[0m\u001b[0;34m,\u001b[0m\u001b[0mshuffle\u001b[0m\u001b[0;34m=\u001b[0m\u001b[0;32mTrue\u001b[0m\u001b[0;34m)\u001b[0m\u001b[0;34m,\u001b[0m\u001b[0mepochs\u001b[0m\u001b[0;34m=\u001b[0m\u001b[0;36m30\u001b[0m \u001b[0;34m,\u001b[0m\u001b[0mvalidation_data\u001b[0m\u001b[0;34m=\u001b[0m\u001b[0;34m(\u001b[0m\u001b[0mx_test\u001b[0m\u001b[0;34m,\u001b[0m\u001b[0my_test\u001b[0m\u001b[0;34m)\u001b[0m\u001b[0;34m)\u001b[0m\u001b[0;34m\u001b[0m\u001b[0;34m\u001b[0m\u001b[0m\n\u001b[0m",
      "\u001b[0;32m~/.local/lib/python3.9/site-packages/keras/engine/training.py\u001b[0m in \u001b[0;36mfit_generator\u001b[0;34m(self, generator, steps_per_epoch, epochs, verbose, callbacks, validation_data, validation_steps, validation_freq, class_weight, max_queue_size, workers, use_multiprocessing, shuffle, initial_epoch)\u001b[0m\n\u001b[1;32m   1973\u001b[0m                   \u001b[0;34m'will be removed in a future version. '\u001b[0m\u001b[0;34m\u001b[0m\u001b[0;34m\u001b[0m\u001b[0m\n\u001b[1;32m   1974\u001b[0m                   'Please use `Model.fit`, which supports generators.')\n\u001b[0;32m-> 1975\u001b[0;31m     return self.fit(\n\u001b[0m\u001b[1;32m   1976\u001b[0m         \u001b[0mgenerator\u001b[0m\u001b[0;34m,\u001b[0m\u001b[0;34m\u001b[0m\u001b[0;34m\u001b[0m\u001b[0m\n\u001b[1;32m   1977\u001b[0m         \u001b[0msteps_per_epoch\u001b[0m\u001b[0;34m=\u001b[0m\u001b[0msteps_per_epoch\u001b[0m\u001b[0;34m,\u001b[0m\u001b[0;34m\u001b[0m\u001b[0;34m\u001b[0m\u001b[0m\n",
      "\u001b[0;32m~/.local/lib/python3.9/site-packages/keras/engine/training.py\u001b[0m in \u001b[0;36mfit\u001b[0;34m(self, x, y, batch_size, epochs, verbose, callbacks, validation_split, validation_data, shuffle, class_weight, sample_weight, initial_epoch, steps_per_epoch, validation_steps, validation_batch_size, validation_freq, max_queue_size, workers, use_multiprocessing)\u001b[0m\n\u001b[1;32m   1182\u001b[0m                 _r=1):\n\u001b[1;32m   1183\u001b[0m               \u001b[0mcallbacks\u001b[0m\u001b[0;34m.\u001b[0m\u001b[0mon_train_batch_begin\u001b[0m\u001b[0;34m(\u001b[0m\u001b[0mstep\u001b[0m\u001b[0;34m)\u001b[0m\u001b[0;34m\u001b[0m\u001b[0;34m\u001b[0m\u001b[0m\n\u001b[0;32m-> 1184\u001b[0;31m               \u001b[0mtmp_logs\u001b[0m \u001b[0;34m=\u001b[0m \u001b[0mself\u001b[0m\u001b[0;34m.\u001b[0m\u001b[0mtrain_function\u001b[0m\u001b[0;34m(\u001b[0m\u001b[0miterator\u001b[0m\u001b[0;34m)\u001b[0m\u001b[0;34m\u001b[0m\u001b[0;34m\u001b[0m\u001b[0m\n\u001b[0m\u001b[1;32m   1185\u001b[0m               \u001b[0;32mif\u001b[0m \u001b[0mdata_handler\u001b[0m\u001b[0;34m.\u001b[0m\u001b[0mshould_sync\u001b[0m\u001b[0;34m:\u001b[0m\u001b[0;34m\u001b[0m\u001b[0;34m\u001b[0m\u001b[0m\n\u001b[1;32m   1186\u001b[0m                 \u001b[0mcontext\u001b[0m\u001b[0;34m.\u001b[0m\u001b[0masync_wait\u001b[0m\u001b[0;34m(\u001b[0m\u001b[0;34m)\u001b[0m\u001b[0;34m\u001b[0m\u001b[0;34m\u001b[0m\u001b[0m\n",
      "\u001b[0;32m~/.local/lib/python3.9/site-packages/tensorflow/python/eager/def_function.py\u001b[0m in \u001b[0;36m__call__\u001b[0;34m(self, *args, **kwds)\u001b[0m\n\u001b[1;32m    883\u001b[0m \u001b[0;34m\u001b[0m\u001b[0m\n\u001b[1;32m    884\u001b[0m       \u001b[0;32mwith\u001b[0m \u001b[0mOptionalXlaContext\u001b[0m\u001b[0;34m(\u001b[0m\u001b[0mself\u001b[0m\u001b[0;34m.\u001b[0m\u001b[0m_jit_compile\u001b[0m\u001b[0;34m)\u001b[0m\u001b[0;34m:\u001b[0m\u001b[0;34m\u001b[0m\u001b[0;34m\u001b[0m\u001b[0m\n\u001b[0;32m--> 885\u001b[0;31m         \u001b[0mresult\u001b[0m \u001b[0;34m=\u001b[0m \u001b[0mself\u001b[0m\u001b[0;34m.\u001b[0m\u001b[0m_call\u001b[0m\u001b[0;34m(\u001b[0m\u001b[0;34m*\u001b[0m\u001b[0margs\u001b[0m\u001b[0;34m,\u001b[0m \u001b[0;34m**\u001b[0m\u001b[0mkwds\u001b[0m\u001b[0;34m)\u001b[0m\u001b[0;34m\u001b[0m\u001b[0;34m\u001b[0m\u001b[0m\n\u001b[0m\u001b[1;32m    886\u001b[0m \u001b[0;34m\u001b[0m\u001b[0m\n\u001b[1;32m    887\u001b[0m       \u001b[0mnew_tracing_count\u001b[0m \u001b[0;34m=\u001b[0m \u001b[0mself\u001b[0m\u001b[0;34m.\u001b[0m\u001b[0mexperimental_get_tracing_count\u001b[0m\u001b[0;34m(\u001b[0m\u001b[0;34m)\u001b[0m\u001b[0;34m\u001b[0m\u001b[0;34m\u001b[0m\u001b[0m\n",
      "\u001b[0;32m~/.local/lib/python3.9/site-packages/tensorflow/python/eager/def_function.py\u001b[0m in \u001b[0;36m_call\u001b[0;34m(self, *args, **kwds)\u001b[0m\n\u001b[1;32m    915\u001b[0m       \u001b[0;31m# In this case we have created variables on the first call, so we run the\u001b[0m\u001b[0;34m\u001b[0m\u001b[0;34m\u001b[0m\u001b[0;34m\u001b[0m\u001b[0m\n\u001b[1;32m    916\u001b[0m       \u001b[0;31m# defunned version which is guaranteed to never create variables.\u001b[0m\u001b[0;34m\u001b[0m\u001b[0;34m\u001b[0m\u001b[0;34m\u001b[0m\u001b[0m\n\u001b[0;32m--> 917\u001b[0;31m       \u001b[0;32mreturn\u001b[0m \u001b[0mself\u001b[0m\u001b[0;34m.\u001b[0m\u001b[0m_stateless_fn\u001b[0m\u001b[0;34m(\u001b[0m\u001b[0;34m*\u001b[0m\u001b[0margs\u001b[0m\u001b[0;34m,\u001b[0m \u001b[0;34m**\u001b[0m\u001b[0mkwds\u001b[0m\u001b[0;34m)\u001b[0m  \u001b[0;31m# pylint: disable=not-callable\u001b[0m\u001b[0;34m\u001b[0m\u001b[0;34m\u001b[0m\u001b[0m\n\u001b[0m\u001b[1;32m    918\u001b[0m     \u001b[0;32melif\u001b[0m \u001b[0mself\u001b[0m\u001b[0;34m.\u001b[0m\u001b[0m_stateful_fn\u001b[0m \u001b[0;32mis\u001b[0m \u001b[0;32mnot\u001b[0m \u001b[0;32mNone\u001b[0m\u001b[0;34m:\u001b[0m\u001b[0;34m\u001b[0m\u001b[0;34m\u001b[0m\u001b[0m\n\u001b[1;32m    919\u001b[0m       \u001b[0;31m# Release the lock early so that multiple threads can perform the call\u001b[0m\u001b[0;34m\u001b[0m\u001b[0;34m\u001b[0m\u001b[0;34m\u001b[0m\u001b[0m\n",
      "\u001b[0;32m~/.local/lib/python3.9/site-packages/tensorflow/python/eager/function.py\u001b[0m in \u001b[0;36m__call__\u001b[0;34m(self, *args, **kwargs)\u001b[0m\n\u001b[1;32m   3037\u001b[0m       (graph_function,\n\u001b[1;32m   3038\u001b[0m        filtered_flat_args) = self._maybe_define_function(args, kwargs)\n\u001b[0;32m-> 3039\u001b[0;31m     return graph_function._call_flat(\n\u001b[0m\u001b[1;32m   3040\u001b[0m         filtered_flat_args, captured_inputs=graph_function.captured_inputs)  # pylint: disable=protected-access\n\u001b[1;32m   3041\u001b[0m \u001b[0;34m\u001b[0m\u001b[0m\n",
      "\u001b[0;32m~/.local/lib/python3.9/site-packages/tensorflow/python/eager/function.py\u001b[0m in \u001b[0;36m_call_flat\u001b[0;34m(self, args, captured_inputs, cancellation_manager)\u001b[0m\n\u001b[1;32m   1961\u001b[0m         and executing_eagerly):\n\u001b[1;32m   1962\u001b[0m       \u001b[0;31m# No tape is watching; skip to running the function.\u001b[0m\u001b[0;34m\u001b[0m\u001b[0;34m\u001b[0m\u001b[0;34m\u001b[0m\u001b[0m\n\u001b[0;32m-> 1963\u001b[0;31m       return self._build_call_outputs(self._inference_function.call(\n\u001b[0m\u001b[1;32m   1964\u001b[0m           ctx, args, cancellation_manager=cancellation_manager))\n\u001b[1;32m   1965\u001b[0m     forward_backward = self._select_forward_and_backward_functions(\n",
      "\u001b[0;32m~/.local/lib/python3.9/site-packages/tensorflow/python/eager/function.py\u001b[0m in \u001b[0;36mcall\u001b[0;34m(self, ctx, args, cancellation_manager)\u001b[0m\n\u001b[1;32m    589\u001b[0m       \u001b[0;32mwith\u001b[0m \u001b[0m_InterpolateFunctionError\u001b[0m\u001b[0;34m(\u001b[0m\u001b[0mself\u001b[0m\u001b[0;34m)\u001b[0m\u001b[0;34m:\u001b[0m\u001b[0;34m\u001b[0m\u001b[0;34m\u001b[0m\u001b[0m\n\u001b[1;32m    590\u001b[0m         \u001b[0;32mif\u001b[0m \u001b[0mcancellation_manager\u001b[0m \u001b[0;32mis\u001b[0m \u001b[0;32mNone\u001b[0m\u001b[0;34m:\u001b[0m\u001b[0;34m\u001b[0m\u001b[0;34m\u001b[0m\u001b[0m\n\u001b[0;32m--> 591\u001b[0;31m           outputs = execute.execute(\n\u001b[0m\u001b[1;32m    592\u001b[0m               \u001b[0mstr\u001b[0m\u001b[0;34m(\u001b[0m\u001b[0mself\u001b[0m\u001b[0;34m.\u001b[0m\u001b[0msignature\u001b[0m\u001b[0;34m.\u001b[0m\u001b[0mname\u001b[0m\u001b[0;34m)\u001b[0m\u001b[0;34m,\u001b[0m\u001b[0;34m\u001b[0m\u001b[0;34m\u001b[0m\u001b[0m\n\u001b[1;32m    593\u001b[0m               \u001b[0mnum_outputs\u001b[0m\u001b[0;34m=\u001b[0m\u001b[0mself\u001b[0m\u001b[0;34m.\u001b[0m\u001b[0m_num_outputs\u001b[0m\u001b[0;34m,\u001b[0m\u001b[0;34m\u001b[0m\u001b[0;34m\u001b[0m\u001b[0m\n",
      "\u001b[0;32m~/.local/lib/python3.9/site-packages/tensorflow/python/eager/execute.py\u001b[0m in \u001b[0;36mquick_execute\u001b[0;34m(op_name, num_outputs, inputs, attrs, ctx, name)\u001b[0m\n\u001b[1;32m     57\u001b[0m   \u001b[0;32mtry\u001b[0m\u001b[0;34m:\u001b[0m\u001b[0;34m\u001b[0m\u001b[0;34m\u001b[0m\u001b[0m\n\u001b[1;32m     58\u001b[0m     \u001b[0mctx\u001b[0m\u001b[0;34m.\u001b[0m\u001b[0mensure_initialized\u001b[0m\u001b[0;34m(\u001b[0m\u001b[0;34m)\u001b[0m\u001b[0;34m\u001b[0m\u001b[0;34m\u001b[0m\u001b[0m\n\u001b[0;32m---> 59\u001b[0;31m     tensors = pywrap_tfe.TFE_Py_Execute(ctx._handle, device_name, op_name,\n\u001b[0m\u001b[1;32m     60\u001b[0m                                         inputs, attrs, num_outputs)\n\u001b[1;32m     61\u001b[0m   \u001b[0;32mexcept\u001b[0m \u001b[0mcore\u001b[0m\u001b[0;34m.\u001b[0m\u001b[0m_NotOkStatusException\u001b[0m \u001b[0;32mas\u001b[0m \u001b[0me\u001b[0m\u001b[0;34m:\u001b[0m\u001b[0;34m\u001b[0m\u001b[0;34m\u001b[0m\u001b[0m\n",
      "\u001b[0;31mKeyboardInterrupt\u001b[0m: "
     ]
    }
   ],
   "metadata": {}
  },
  {
   "cell_type": "code",
   "execution_count": 6,
   "source": [
    "batch_size = 128\n",
    "epochs = 15\n",
    "\n",
    "model.compile(loss=\"categorical_crossentropy\", optimizer=\"adam\", metrics=[\"accuracy\"])\n",
    "\n",
    "model.fit(x_train, y_train, batch_size=batch_size, epochs=epochs, validation_split=0.1, shuffle = True)"
   ],
   "outputs": [
    {
     "output_type": "stream",
     "name": "stderr",
     "text": [
      "2021-09-24 19:26:44.728407: I tensorflow/compiler/mlir/mlir_graph_optimization_pass.cc:185] None of the MLIR Optimization Passes are enabled (registered 2)\n"
     ]
    },
    {
     "output_type": "stream",
     "name": "stdout",
     "text": [
      "Epoch 1/15\n"
     ]
    },
    {
     "output_type": "stream",
     "name": "stderr",
     "text": [
      "2021-09-24 19:26:46.018770: I tensorflow/stream_executor/cuda/cuda_dnn.cc:369] Loaded cuDNN version 8101\n"
     ]
    },
    {
     "output_type": "stream",
     "name": "stdout",
     "text": [
      "1634/1634 [==============================] - 37s 21ms/step - loss: 0.4962 - accuracy: 0.8657 - val_loss: 0.1850 - val_accuracy: 0.9499\n",
      "Epoch 2/15\n",
      "1634/1634 [==============================] - 33s 20ms/step - loss: 0.1981 - accuracy: 0.9432 - val_loss: 0.1402 - val_accuracy: 0.9626\n",
      "Epoch 3/15\n",
      "1634/1634 [==============================] - 32s 20ms/step - loss: 0.1511 - accuracy: 0.9560 - val_loss: 0.1318 - val_accuracy: 0.9635\n",
      "Epoch 4/15\n",
      "1634/1634 [==============================] - 33s 20ms/step - loss: 0.1258 - accuracy: 0.9624 - val_loss: 0.1136 - val_accuracy: 0.9695\n",
      "Epoch 5/15\n",
      "1634/1634 [==============================] - 34s 21ms/step - loss: 0.1084 - accuracy: 0.9672 - val_loss: 0.1077 - val_accuracy: 0.9707\n",
      "Epoch 6/15\n",
      "1634/1634 [==============================] - 33s 20ms/step - loss: 0.0950 - accuracy: 0.9711 - val_loss: 0.1075 - val_accuracy: 0.9720\n",
      "Epoch 7/15\n",
      "1634/1634 [==============================] - 34s 21ms/step - loss: 0.0851 - accuracy: 0.9733 - val_loss: 0.1061 - val_accuracy: 0.9731\n",
      "Epoch 8/15\n",
      "1634/1634 [==============================] - 33s 20ms/step - loss: 0.0790 - accuracy: 0.9750 - val_loss: 0.1017 - val_accuracy: 0.9738\n",
      "Epoch 9/15\n",
      "1634/1634 [==============================] - 34s 21ms/step - loss: 0.0716 - accuracy: 0.9773 - val_loss: 0.0989 - val_accuracy: 0.9733\n",
      "Epoch 10/15\n",
      "1634/1634 [==============================] - 33s 20ms/step - loss: 0.0653 - accuracy: 0.9794 - val_loss: 0.1091 - val_accuracy: 0.9731\n",
      "Epoch 11/15\n",
      "1634/1634 [==============================] - 33s 20ms/step - loss: 0.0628 - accuracy: 0.9798 - val_loss: 0.1039 - val_accuracy: 0.9733\n",
      "Epoch 12/15\n",
      "1634/1634 [==============================] - 33s 20ms/step - loss: 0.0585 - accuracy: 0.9811 - val_loss: 0.0996 - val_accuracy: 0.9749\n",
      "Epoch 13/15\n",
      "1634/1634 [==============================] - 32s 20ms/step - loss: 0.0559 - accuracy: 0.9817 - val_loss: 0.1107 - val_accuracy: 0.9732\n",
      "Epoch 14/15\n",
      "1634/1634 [==============================] - 32s 20ms/step - loss: 0.0527 - accuracy: 0.9830 - val_loss: 0.1027 - val_accuracy: 0.9762\n",
      "Epoch 15/15\n",
      "1634/1634 [==============================] - 32s 20ms/step - loss: 0.0510 - accuracy: 0.9834 - val_loss: 0.0994 - val_accuracy: 0.9759\n"
     ]
    },
    {
     "output_type": "execute_result",
     "data": {
      "text/plain": [
       "<keras.callbacks.History at 0x7f0e592b5d30>"
      ]
     },
     "metadata": {},
     "execution_count": 6
    }
   ],
   "metadata": {
    "colab": {
     "base_uri": "https://localhost:8080/"
    },
    "id": "hPFdGWb0nBaA",
    "outputId": "5f3cd9ff-22b4-498f-9552-e1a7fd43cde8"
   }
  },
  {
   "cell_type": "code",
   "execution_count": 7,
   "source": [
    "score = model.evaluate(x_test, y_test, verbose=0)\n",
    "print(\"Test loss:\", score[0])\n",
    "print(\"Test accuracy:\", score[1])"
   ],
   "outputs": [
    {
     "output_type": "stream",
     "name": "stdout",
     "text": [
      "Test loss: 0.1871126890182495\n",
      "Test accuracy: 0.9582328200340271\n"
     ]
    }
   ],
   "metadata": {
    "colab": {
     "base_uri": "https://localhost:8080/"
    },
    "id": "pF8aJsGhnX05",
    "outputId": "471a01bd-3b0c-42a8-a785-24c8980cc068"
   }
  },
  {
   "cell_type": "code",
   "execution_count": 8,
   "source": [
    "model.save(\"hiragana-model.h5\") "
   ],
   "outputs": [],
   "metadata": {}
  },
  {
   "cell_type": "code",
   "execution_count": 11,
   "source": [
    "what = x_test[1].copy()\n",
    "what = np.expand_dims(what, axis=0)\n",
    "y_pred = model.predict(what)\n",
    "print(y_pred.shape)"
   ],
   "outputs": [
    {
     "output_type": "stream",
     "name": "stdout",
     "text": [
      "(1, 49)\n"
     ]
    }
   ],
   "metadata": {}
  },
  {
   "cell_type": "code",
   "execution_count": 13,
   "source": [
    "plt.imshow(x_test[2000], cmap='gray')\n",
    "plt.xticks([]), plt.yticks([])\n",
    "plt.show()\n",
    "print(data.char[y_pred[2000].argmax()])"
   ],
   "outputs": [
    {
     "output_type": "display_data",
     "data": {
      "image/png": "[encoded data removed]",
      "image/svg+xml": "<?xml version=\"1.0\" encoding=\"utf-8\" standalone=\"no\"?>\n<!DOCTYPE svg PUBLIC \"-//W3C//DTD SVG 1.1//EN\"\n  \"http://www.w3.org/Graphics/SVG/1.1/DTD/svg11.dtd\">\n<svg height=\"235.34pt\" version=\"1.1\" viewBox=\"0 0 235.34 235.34\" width=\"235.34pt\" xmlns=\"http://www.w3.org/2000/svg\" xmlns:xlink=\"http://www.w3.org/1999/xlink\">\n <metadata>\n  <rdf:RDF xmlns:cc=\"http://creativecommons.org/ns#\" xmlns:dc=\"http://purl.org/dc/elements/1.1/\" xmlns:rdf=\"http://www.w3.org/1999/02/22-rdf-syntax-ns#\">\n   <cc:Work>\n    <dc:type rdf:resource=\"http://purl.org/dc/dcmitype/StillImage\"/>\n    <dc:date>2021-08-25T14:59:35.432072</dc:date>\n    <dc:format>image/svg+xml</dc:format>\n    <dc:creator>\n     <cc:Agent>\n      <dc:title>Matplotlib v3.4.3, https://matplotlib.org/</dc:title>\n     </cc:Agent>\n    </dc:creator>\n   </cc:Work>\n  </rdf:RDF>\n </metadata>\n <defs>\n  <style type=\"text/css\">*{stroke-linecap:butt;stroke-linejoin:round;}</style>\n </defs>\n <g id=\"figure_1\">\n  <g id=\"patch_1\">\n   <path d=\"M 0 235.34 \nL 235.34 235.34 \nL 235.34 0 \nL 0 0 \nz\n\" style=\"fill:none;\"/>\n  </g>\n  <g id=\"axes_1\">\n   <g id=\"patch_2\">\n    <path d=\"M 10.7 224.64 \nL 228.14 224.64 \nL 228.14 7.2 \nL 10.7 7.2 \nz\n\" style=\"fill:#ffffff;\"/>\n   </g>\n   <g clip-path=\"url(#paaafcef5b0)\">\n    <image height=\"218\" id=\"imageb5061c4b0f\" transform=\"scale(1 -1)translate(0 -218)\" width=\"218\" x=\"10.7\" xlink:href=\"data:image/png;base64,\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\" y=\"-6.64\"/>\n   </g>\n   <g id=\"matplotlib.axis_1\"/>\n   <g id=\"matplotlib.axis_2\"/>\n   <g id=\"patch_3\">\n    <path d=\"M 10.7 224.64 \nL 10.7 7.2 \n\" style=\"fill:none;stroke:#000000;stroke-linecap:square;stroke-linejoin:miter;stroke-width:0.8;\"/>\n   </g>\n   <g id=\"patch_4\">\n    <path d=\"M 228.14 224.64 \nL 228.14 7.2 \n\" style=\"fill:none;stroke:#000000;stroke-linecap:square;stroke-linejoin:miter;stroke-width:0.8;\"/>\n   </g>\n   <g id=\"patch_5\">\n    <path d=\"M 10.7 224.64 \nL 228.14 224.64 \n\" style=\"fill:none;stroke:#000000;stroke-linecap:square;stroke-linejoin:miter;stroke-width:0.8;\"/>\n   </g>\n   <g id=\"patch_6\">\n    <path d=\"M 10.7 7.2 \nL 228.14 7.2 \n\" style=\"fill:none;stroke:#000000;stroke-linecap:square;stroke-linejoin:miter;stroke-width:0.8;\"/>\n   </g>\n  </g>\n </g>\n <defs>\n  <clipPath id=\"paaafcef5b0\">\n   <rect height=\"217.44\" width=\"217.44\" x=\"10.7\" y=\"7.2\"/>\n  </clipPath>\n </defs>\n</svg>\n",
      "text/plain": [
       "<Figure size 432x288 with 1 Axes>"
      ]
     },
     "metadata": {}
    },
    {
     "output_type": "stream",
     "name": "stdout",
     "text": [
      "る\n"
     ]
    }
   ],
   "metadata": {}
  }
 ],
 "metadata": {
  "accelerator": "GPU",
  "colab": {
   "name": "Hiragana.ipynb",
   "provenance": []
  },
  "kernelspec": {
   "name": "python3",
   "display_name": "Python 3.9.5 64-bit"
  },
  "language_info": {
   "codemirror_mode": {
    "name": "ipython",
    "version": 3
   },
   "file_extension": ".py",
   "mimetype": "text/x-python",
   "name": "python",
   "nbconvert_exporter": "python",
   "pygments_lexer": "ipython3",
   "version": "3.9.5"
  },
  "interpreter": {
   "hash": "916dbcbb3f70747c44a77c7bcd40155683ae19c65e1c03b4aa3499c5328201f1"
  }
 },
 "nbformat": 4,
 "nbformat_minor": 4
}