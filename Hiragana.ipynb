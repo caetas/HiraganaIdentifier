{
 "cells": [
  {
   "cell_type": "code",
   "execution_count": 1,
   "source": [
    "import numpy as np\n",
    "from tensorflow import keras\n",
    "from tensorflow.keras import layers\n",
    "from matplotlib import pyplot as plt\n",
    "import pandas as pd\n",
    "import random\n",
    "import math"
   ],
   "outputs": [],
   "metadata": {
    "id": "Iq05zcAPjTNq"
   }
  },
  {
   "cell_type": "code",
   "execution_count": 2,
   "source": [
    "data = np.load('k49-test-imgs.npz')\n",
    "x_test = data['arr_0']\n",
    "data = np.load('k49-train-imgs.npz')\n",
    "x_train = data['arr_0']\n",
    "data = np.load('k49-train-labels.npz')\n",
    "y_train = data['arr_0']\n",
    "data = np.load('k49-test-labels.npz')\n",
    "y_test = data['arr_0']"
   ],
   "outputs": [],
   "metadata": {
    "id": "l5pXtdrKjsEp"
   }
  },
  {
   "cell_type": "code",
   "execution_count": 3,
   "source": [
    "data = pd.read_csv(\"k49_classmap.csv\")\n",
    "print(data.char[0])"
   ],
   "outputs": [
    {
     "output_type": "stream",
     "name": "stdout",
     "text": [
      "あ\n"
     ]
    }
   ],
   "metadata": {}
  },
  {
   "cell_type": "code",
   "execution_count": 4,
   "source": [
    "#print(y.files)\n",
    "print(x_train[1].shape)"
   ],
   "outputs": [
    {
     "output_type": "stream",
     "name": "stdout",
     "text": [
      "(28, 28)\n"
     ]
    }
   ],
   "metadata": {
    "colab": {
     "base_uri": "https://localhost:8080/"
    },
    "id": "Mz1WrdHGj2Rg",
    "outputId": "36714a45-584e-4c36-dfb8-4228f5c94bd3"
   }
  },
  {
   "cell_type": "code",
   "execution_count": 5,
   "source": [
    "plt.imshow(x_test[10], cmap='gray')\n",
    "plt.xticks([]), plt.yticks([])\n",
    "plt.show()\n",
    "print(x_train[10].argmax())"
   ],
   "outputs": [
    {
     "output_type": "display_data",
     "data": {
      "text/plain": [
       "<Figure size 432x288 with 1 Axes>"
      ],
      "image/svg+xml": "<?xml version=\"1.0\" encoding=\"utf-8\" standalone=\"no\"?>\n<!DOCTYPE svg PUBLIC \"-//W3C//DTD SVG 1.1//EN\"\n  \"http://www.w3.org/Graphics/SVG/1.1/DTD/svg11.dtd\">\n<svg height=\"235.34pt\" version=\"1.1\" viewBox=\"0 0 235.34 235.34\" width=\"235.34pt\" xmlns=\"http://www.w3.org/2000/svg\" xmlns:xlink=\"http://www.w3.org/1999/xlink\">\n <metadata>\n  <rdf:RDF xmlns:cc=\"http://creativecommons.org/ns#\" xmlns:dc=\"http://purl.org/dc/elements/1.1/\" xmlns:rdf=\"http://www.w3.org/1999/02/22-rdf-syntax-ns#\">\n   <cc:Work>\n    <dc:type rdf:resource=\"http://purl.org/dc/dcmitype/StillImage\"/>\n    <dc:date>2021-08-25T14:51:08.657243</dc:date>\n    <dc:format>image/svg+xml</dc:format>\n    <dc:creator>\n     <cc:Agent>\n      <dc:title>Matplotlib v3.4.3, https://matplotlib.org/</dc:title>\n     </cc:Agent>\n    </dc:creator>\n   </cc:Work>\n  </rdf:RDF>\n </metadata>\n <defs>\n  <style type=\"text/css\">*{stroke-linecap:butt;stroke-linejoin:round;}</style>\n </defs>\n <g id=\"figure_1\">\n  <g id=\"patch_1\">\n   <path d=\"M 0 235.34 \nL 235.34 235.34 \nL 235.34 0 \nL 0 0 \nz\n\" style=\"fill:none;\"/>\n  </g>\n  <g id=\"axes_1\">\n   <g id=\"patch_2\">\n    <path d=\"M 10.7 224.64 \nL 228.14 224.64 \nL 228.14 7.2 \nL 10.7 7.2 \nz\n\" style=\"fill:#ffffff;\"/>\n   </g>\n   <g clip-path=\"url(#p29229df527)\">\n    <image height=\"218\" id=\"imagea52b6bd189\" transform=\"scale(1 -1)translate(0 -218)\" width=\"218\" x=\"10.7\" xlink:href=\"data:image/png;base64,\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\" y=\"-6.64\"/>\n   </g>\n   <g id=\"matplotlib.axis_1\"/>\n   <g id=\"matplotlib.axis_2\"/>\n   <g id=\"patch_3\">\n    <path d=\"M 10.7 224.64 \nL 10.7 7.2 \n\" style=\"fill:none;stroke:#000000;stroke-linecap:square;stroke-linejoin:miter;stroke-width:0.8;\"/>\n   </g>\n   <g id=\"patch_4\">\n    <path d=\"M 228.14 224.64 \nL 228.14 7.2 \n\" style=\"fill:none;stroke:#000000;stroke-linecap:square;stroke-linejoin:miter;stroke-width:0.8;\"/>\n   </g>\n   <g id=\"patch_5\">\n    <path d=\"M 10.7 224.64 \nL 228.14 224.64 \n\" style=\"fill:none;stroke:#000000;stroke-linecap:square;stroke-linejoin:miter;stroke-width:0.8;\"/>\n   </g>\n   <g id=\"patch_6\">\n    <path d=\"M 10.7 7.2 \nL 228.14 7.2 \n\" style=\"fill:none;stroke:#000000;stroke-linecap:square;stroke-linejoin:miter;stroke-width:0.8;\"/>\n   </g>\n  </g>\n </g>\n <defs>\n  <clipPath id=\"p29229df527\">\n   <rect height=\"217.44\" width=\"217.44\" x=\"10.7\" y=\"7.2\"/>\n  </clipPath>\n </defs>\n</svg>\n",
      "image/png": "[encoded data removed]"
     },
     "metadata": {}
    },
    {
     "output_type": "stream",
     "name": "stdout",
     "text": [
      "70\n"
     ]
    }
   ],
   "metadata": {
    "colab": {
     "base_uri": "https://localhost:8080/",
     "height": 269
    },
    "id": "FMx5dzxAlEyO",
    "outputId": "39d1d3fb-40d6-4f57-a811-a01b7b56b6b9"
   }
  },
  {
   "cell_type": "code",
   "execution_count": 6,
   "source": [
    "num_classes = 49\n",
    "input_shape = (28, 28, 1)\n",
    "\n",
    "# Scale images to the [0, 1] range\n",
    "x_train = x_train.astype(\"float32\") / 255\n",
    "x_test = x_test.astype(\"float32\") / 255\n",
    "# Make sure images have shape (28, 28, 1)\n",
    "x_train = np.expand_dims(x_train, -1)\n",
    "x_test = np.expand_dims(x_test, -1)\n",
    "print(\"x_train shape:\", x_train.shape)\n",
    "print(x_train.shape[0], \"train samples\")\n",
    "print(x_test.shape[0], \"test samples\")\n",
    "\n",
    "\n",
    "# convert class vectors to binary class matrices\n",
    "y_train = keras.utils.to_categorical(y_train, num_classes)\n",
    "y_test = keras.utils.to_categorical(y_test, num_classes)"
   ],
   "outputs": [
    {
     "output_type": "stream",
     "name": "stdout",
     "text": [
      "x_train shape: (232365, 28, 28, 1)\n",
      "232365 train samples\n",
      "38547 test samples\n"
     ]
    }
   ],
   "metadata": {
    "colab": {
     "base_uri": "https://localhost:8080/"
    },
    "id": "hrE7rSgCl8ZK",
    "outputId": "2e0e76b1-ca16-4eb0-a026-c1bfca47b798"
   }
  },
  {
   "cell_type": "code",
   "execution_count": 7,
   "source": [
    "model = keras.Sequential(\n",
    "    [\n",
    "        keras.Input(shape=input_shape),\n",
    "        layers.Conv2D(50, kernel_size=(3, 3), activation=\"relu\"),\n",
    "        layers.MaxPooling2D(pool_size=(1, 1)),\n",
    "        layers.Conv2D(100, kernel_size=(3, 3), activation=\"relu\"),\n",
    "        layers.MaxPooling2D(pool_size=(2, 2)),\n",
    "        layers.Conv2D(50, kernel_size=(3, 3), activation=\"relu\"),\n",
    "        layers.MaxPooling2D(pool_size=(2, 2)),\n",
    "        layers.Flatten(),\n",
    "        layers.Dropout(0.5),\n",
    "        layers.Dense(128, activation=\"relu\"),\n",
    "        layers.Dense(num_classes, activation=\"softmax\"),\n",
    "    ]\n",
    ")"
   ],
   "outputs": [
    {
     "output_type": "stream",
     "name": "stderr",
     "text": [
      "2021-08-25 14:51:09.255027: I tensorflow/stream_executor/cuda/cuda_gpu_executor.cc:937] successful NUMA node read from SysFS had negative value (-1), but there must be at least one NUMA node, so returning NUMA node zero\n",
      "2021-08-25 14:51:09.304313: I tensorflow/stream_executor/cuda/cuda_gpu_executor.cc:937] successful NUMA node read from SysFS had negative value (-1), but there must be at least one NUMA node, so returning NUMA node zero\n",
      "2021-08-25 14:51:09.304892: I tensorflow/stream_executor/cuda/cuda_gpu_executor.cc:937] successful NUMA node read from SysFS had negative value (-1), but there must be at least one NUMA node, so returning NUMA node zero\n",
      "2021-08-25 14:51:09.306082: I tensorflow/core/platform/cpu_feature_guard.cc:142] This TensorFlow binary is optimized with oneAPI Deep Neural Network Library (oneDNN) to use the following CPU instructions in performance-critical operations:  AVX2 FMA\n",
      "To enable them in other operations, rebuild TensorFlow with the appropriate compiler flags.\n",
      "2021-08-25 14:51:09.306898: I tensorflow/stream_executor/cuda/cuda_gpu_executor.cc:937] successful NUMA node read from SysFS had negative value (-1), but there must be at least one NUMA node, so returning NUMA node zero\n",
      "2021-08-25 14:51:09.307558: I tensorflow/stream_executor/cuda/cuda_gpu_executor.cc:937] successful NUMA node read from SysFS had negative value (-1), but there must be at least one NUMA node, so returning NUMA node zero\n",
      "2021-08-25 14:51:09.308115: I tensorflow/stream_executor/cuda/cuda_gpu_executor.cc:937] successful NUMA node read from SysFS had negative value (-1), but there must be at least one NUMA node, so returning NUMA node zero\n",
      "2021-08-25 14:51:10.360952: I tensorflow/stream_executor/cuda/cuda_gpu_executor.cc:937] successful NUMA node read from SysFS had negative value (-1), but there must be at least one NUMA node, so returning NUMA node zero\n",
      "2021-08-25 14:51:10.361370: I tensorflow/stream_executor/cuda/cuda_gpu_executor.cc:937] successful NUMA node read from SysFS had negative value (-1), but there must be at least one NUMA node, so returning NUMA node zero\n",
      "2021-08-25 14:51:10.361730: I tensorflow/stream_executor/cuda/cuda_gpu_executor.cc:937] successful NUMA node read from SysFS had negative value (-1), but there must be at least one NUMA node, so returning NUMA node zero\n",
      "2021-08-25 14:51:10.362428: I tensorflow/core/common_runtime/gpu/gpu_device.cc:1510] Created device /job:localhost/replica:0/task:0/device:GPU:0 with 2274 MB memory:  -> device: 0, name: NVIDIA GeForce GTX 1650, pci bus id: 0000:01:00.0, compute capability: 7.5\n"
     ]
    }
   ],
   "metadata": {
    "colab": {
     "base_uri": "https://localhost:8080/"
    },
    "id": "mnllWEzjm8ZT",
    "outputId": "2e3409c1-fed0-4a67-c5b6-383106e26b6a"
   }
  },
  {
   "cell_type": "code",
   "execution_count": 8,
   "source": [
    "batch_size = 128\n",
    "epochs = 12\n",
    "\n",
    "model.compile(loss=\"categorical_crossentropy\", optimizer=\"adam\", metrics=[\"accuracy\"])\n",
    "\n",
    "model.fit(x_train, y_train, batch_size=batch_size, epochs=epochs, validation_split=0.1, shuffle = True)"
   ],
   "outputs": [
    {
     "output_type": "stream",
     "name": "stderr",
     "text": [
      "2021-08-25 14:51:11.705471: I tensorflow/compiler/mlir/mlir_graph_optimization_pass.cc:185] None of the MLIR Optimization Passes are enabled (registered 2)\n"
     ]
    },
    {
     "output_type": "stream",
     "name": "stdout",
     "text": [
      "Epoch 1/12\n"
     ]
    },
    {
     "output_type": "stream",
     "name": "stderr",
     "text": [
      "2021-08-25 14:51:13.432301: I tensorflow/stream_executor/cuda/cuda_dnn.cc:369] Loaded cuDNN version 8101\n"
     ]
    },
    {
     "output_type": "stream",
     "name": "stdout",
     "text": [
      "1634/1634 [==============================] - 48s 26ms/step - loss: 0.7105 - accuracy: 0.8096 - val_loss: 0.2725 - val_accuracy: 0.9262\n",
      "Epoch 2/12\n",
      "1634/1634 [==============================] - 41s 25ms/step - loss: 0.3147 - accuracy: 0.9117 - val_loss: 0.1942 - val_accuracy: 0.9481\n",
      "Epoch 3/12\n",
      "1634/1634 [==============================] - 41s 25ms/step - loss: 0.2464 - accuracy: 0.9291 - val_loss: 0.1712 - val_accuracy: 0.9537\n",
      "Epoch 4/12\n",
      "1634/1634 [==============================] - 41s 25ms/step - loss: 0.2119 - accuracy: 0.9389 - val_loss: 0.1564 - val_accuracy: 0.9581\n",
      "Epoch 5/12\n",
      "1634/1634 [==============================] - 35s 22ms/step - loss: 0.1910 - accuracy: 0.9447 - val_loss: 0.1431 - val_accuracy: 0.9613\n",
      "Epoch 6/12\n",
      "1634/1634 [==============================] - 35s 22ms/step - loss: 0.1733 - accuracy: 0.9500 - val_loss: 0.1304 - val_accuracy: 0.9658\n",
      "Epoch 7/12\n",
      "1634/1634 [==============================] - 35s 21ms/step - loss: 0.1625 - accuracy: 0.9530 - val_loss: 0.1269 - val_accuracy: 0.9668\n",
      "Epoch 8/12\n",
      "1634/1634 [==============================] - 35s 22ms/step - loss: 0.1520 - accuracy: 0.9550 - val_loss: 0.1266 - val_accuracy: 0.9673\n",
      "Epoch 9/12\n",
      "1634/1634 [==============================] - 35s 22ms/step - loss: 0.1444 - accuracy: 0.9572 - val_loss: 0.1179 - val_accuracy: 0.9695\n",
      "Epoch 10/12\n",
      "1634/1634 [==============================] - 35s 22ms/step - loss: 0.1382 - accuracy: 0.9594 - val_loss: 0.1155 - val_accuracy: 0.9695\n",
      "Epoch 11/12\n",
      "1634/1634 [==============================] - 35s 22ms/step - loss: 0.1311 - accuracy: 0.9605 - val_loss: 0.1138 - val_accuracy: 0.9706\n",
      "Epoch 12/12\n",
      "1634/1634 [==============================] - 35s 22ms/step - loss: 0.1267 - accuracy: 0.9623 - val_loss: 0.1163 - val_accuracy: 0.9700\n"
     ]
    },
    {
     "output_type": "execute_result",
     "data": {
      "text/plain": [
       "<keras.callbacks.History at 0x7fd4a1c86130>"
      ]
     },
     "metadata": {},
     "execution_count": 8
    }
   ],
   "metadata": {
    "colab": {
     "base_uri": "https://localhost:8080/"
    },
    "id": "hPFdGWb0nBaA",
    "outputId": "5f3cd9ff-22b4-498f-9552-e1a7fd43cde8"
   }
  },
  {
   "cell_type": "code",
   "execution_count": 9,
   "source": [
    "score = model.evaluate(x_test, y_test, verbose=0)\n",
    "print(\"Test loss:\", score[0])\n",
    "print(\"Test accuracy:\", score[1])"
   ],
   "outputs": [
    {
     "output_type": "stream",
     "name": "stdout",
     "text": [
      "Test loss: 0.21934454143047333\n",
      "Test accuracy: 0.9466884732246399\n"
     ]
    }
   ],
   "metadata": {
    "colab": {
     "base_uri": "https://localhost:8080/"
    },
    "id": "pF8aJsGhnX05",
    "outputId": "471a01bd-3b0c-42a8-a785-24c8980cc068"
   }
  },
  {
   "cell_type": "code",
   "execution_count": 10,
   "source": [
    "y_pred = model.predict(x_test)\n",
    "print(y_pred.shape)"
   ],
   "outputs": [
    {
     "output_type": "stream",
     "name": "stdout",
     "text": [
      "(38547, 49)\n"
     ]
    }
   ],
   "metadata": {}
  },
  {
   "cell_type": "code",
   "execution_count": 13,
   "source": [
    "plt.imshow(x_test[2000], cmap='gray')\n",
    "plt.xticks([]), plt.yticks([])\n",
    "plt.show()\n",
    "print(data.char[y_pred[2000].argmax()])"
   ],
   "outputs": [
    {
     "output_type": "display_data",
     "data": {
      "text/plain": [
       "<Figure size 432x288 with 1 Axes>"
      ],
      "image/svg+xml": "<?xml version=\"1.0\" encoding=\"utf-8\" standalone=\"no\"?>\n<!DOCTYPE svg PUBLIC \"-//W3C//DTD SVG 1.1//EN\"\n  \"http://www.w3.org/Graphics/SVG/1.1/DTD/svg11.dtd\">\n<svg height=\"235.34pt\" version=\"1.1\" viewBox=\"0 0 235.34 235.34\" width=\"235.34pt\" xmlns=\"http://www.w3.org/2000/svg\" xmlns:xlink=\"http://www.w3.org/1999/xlink\">\n <metadata>\n  <rdf:RDF xmlns:cc=\"http://creativecommons.org/ns#\" xmlns:dc=\"http://purl.org/dc/elements/1.1/\" xmlns:rdf=\"http://www.w3.org/1999/02/22-rdf-syntax-ns#\">\n   <cc:Work>\n    <dc:type rdf:resource=\"http://purl.org/dc/dcmitype/StillImage\"/>\n    <dc:date>2021-08-25T14:59:35.432072</dc:date>\n    <dc:format>image/svg+xml</dc:format>\n    <dc:creator>\n     <cc:Agent>\n      <dc:title>Matplotlib v3.4.3, https://matplotlib.org/</dc:title>\n     </cc:Agent>\n    </dc:creator>\n   </cc:Work>\n  </rdf:RDF>\n </metadata>\n <defs>\n  <style type=\"text/css\">*{stroke-linecap:butt;stroke-linejoin:round;}</style>\n </defs>\n <g id=\"figure_1\">\n  <g id=\"patch_1\">\n   <path d=\"M 0 235.34 \nL 235.34 235.34 \nL 235.34 0 \nL 0 0 \nz\n\" style=\"fill:none;\"/>\n  </g>\n  <g id=\"axes_1\">\n   <g id=\"patch_2\">\n    <path d=\"M 10.7 224.64 \nL 228.14 224.64 \nL 228.14 7.2 \nL 10.7 7.2 \nz\n\" style=\"fill:#ffffff;\"/>\n   </g>\n   <g clip-path=\"url(#paaafcef5b0)\">\n    <image height=\"218\" id=\"imageb5061c4b0f\" transform=\"scale(1 -1)translate(0 -218)\" width=\"218\" x=\"10.7\" xlink:href=\"data:image/png;base64,\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\" y=\"-6.64\"/>\n   </g>\n   <g id=\"matplotlib.axis_1\"/>\n   <g id=\"matplotlib.axis_2\"/>\n   <g id=\"patch_3\">\n    <path d=\"M 10.7 224.64 \nL 10.7 7.2 \n\" style=\"fill:none;stroke:#000000;stroke-linecap:square;stroke-linejoin:miter;stroke-width:0.8;\"/>\n   </g>\n   <g id=\"patch_4\">\n    <path d=\"M 228.14 224.64 \nL 228.14 7.2 \n\" style=\"fill:none;stroke:#000000;stroke-linecap:square;stroke-linejoin:miter;stroke-width:0.8;\"/>\n   </g>\n   <g id=\"patch_5\">\n    <path d=\"M 10.7 224.64 \nL 228.14 224.64 \n\" style=\"fill:none;stroke:#000000;stroke-linecap:square;stroke-linejoin:miter;stroke-width:0.8;\"/>\n   </g>\n   <g id=\"patch_6\">\n    <path d=\"M 10.7 7.2 \nL 228.14 7.2 \n\" style=\"fill:none;stroke:#000000;stroke-linecap:square;stroke-linejoin:miter;stroke-width:0.8;\"/>\n   </g>\n  </g>\n </g>\n <defs>\n  <clipPath id=\"paaafcef5b0\">\n   <rect height=\"217.44\" width=\"217.44\" x=\"10.7\" y=\"7.2\"/>\n  </clipPath>\n </defs>\n</svg>\n",
      "image/png": "[encoded data removed]"
     },
     "metadata": {}
    },
    {
     "output_type": "stream",
     "name": "stdout",
     "text": [
      "る\n"
     ]
    }
   ],
   "metadata": {}
  }
 ],
 "metadata": {
  "accelerator": "GPU",
  "colab": {
   "name": "Hiragana.ipynb",
   "provenance": []
  },
  "kernelspec": {
   "name": "python3",
   "display_name": "Python 3.9.5 64-bit"
  },
  "language_info": {
   "codemirror_mode": {
    "name": "ipython",
    "version": 3
   },
   "file_extension": ".py",
   "mimetype": "text/x-python",
   "name": "python",
   "nbconvert_exporter": "python",
   "pygments_lexer": "ipython3",
   "version": "3.9.5"
  },
  "interpreter": {
   "hash": "916dbcbb3f70747c44a77c7bcd40155683ae19c65e1c03b4aa3499c5328201f1"
  }
 },
 "nbformat": 4,
 "nbformat_minor": 4
}